{
 "cells": [
  {
   "cell_type": "code",
   "execution_count": 1,
   "metadata": {},
   "outputs": [],
   "source": [
    "import os\n",
    "import shutil\n",
    "import zipfile"
   ]
  },
  {
   "cell_type": "code",
   "execution_count": 2,
   "metadata": {},
   "outputs": [],
   "source": [
    "base_folder = os.getcwd()\n",
    "temporary_folder = os.path.join(os.getcwd(), \"tmp\")"
   ]
  },
  {
   "cell_type": "code",
   "execution_count": 3,
   "metadata": {},
   "outputs": [],
   "source": [
    "def unzip_files():\n",
    "# Unzip file on a temporary folder\n",
    "    if os.path.exists(temporary_folder):\n",
    "        shutil.rmtree(temporary_folder)\n",
    "        \n",
    "    if not os.path.exists(temporary_folder):\n",
    "        os.makedirs(temporary_folder)\n",
    "        \n",
    "    local_file_name = os.path.join(base_folder, \"training_dataset\", \"trainingandtestdata.zip\")\n",
    "    with zipfile.ZipFile(local_file_name, 'r') as zip_ref:\n",
    "        zip_ref.extractall(temporary_folder)"
   ]
  },
  {
   "cell_type": "markdown",
   "metadata": {},
   "source": [
    "### Pre-process Tweets\n",
    "\n",
    "The following function prepares the tweet by:\n",
    "\n",
    "* Extracting the text from HTML (for the training dataset provided, we already have the text, but we want to avoid using any HTML tag for classification\n",
    "* Converting all words to lower case\n",
    "* Replacing any URL with \"URL\" constant (to enable the removal of them on a further step)\n",
    "* Replacing any tagging of users with \"USERTAGGING\" (to enable the removal of them in a further step)\n",
    "* Removing any \"#\" from hashtags\n",
    "* Removing punctuation (has little or no weight on classification as it can be used for both intentions)\n",
    "* And finally, removing words and punctuation that has little or no weight on classification (and can even create biases):\n",
    "    * Stop words: set of common words that are used doesn't matter the intenttion (things like it, that, a, the)\n",
    "    * Remove the two constants that we used to replace user tagging and URLs"
   ]
  },
  {
   "cell_type": "code",
   "execution_count": 4,
   "metadata": {},
   "outputs": [],
   "source": [
    "def cleansing(tweet):\n",
    "# Cleansing tweet\n",
    "    from nltk.tokenize import word_tokenize\n",
    "    from nltk.corpus import stopwords \n",
    "    from string import punctuation \n",
    "    from bs4 import BeautifulSoup\n",
    "    import re\n",
    "    \n",
    "    terms_to_remove = set(stopwords.words(\"english\") + [\"USERTAGGING\",\"URL\"])\n",
    "    tweet = BeautifulSoup(tweet, 'html.parser').get_text() # Extracts text from HTML (just in case!)\n",
    "    tweet = tweet.lower() # Converts text to lower-case\n",
    "    tweet = re.sub(\"((www\\.[^\\s]+)|(https?://[^\\s]+))\", \"URL\", tweet) # Replces URLs by URL constan\n",
    "    tweet = re.sub(\"@[^\\s]+\", \"USERTAGGING\", tweet) # Replaces usernames by USERTAGGING constant \n",
    "    tweet = re.sub(r\"#([^\\s]+)\", r\"\\1\", tweet) # Removes the # in #hashtag\n",
    "    for p in punctuation: \n",
    "        tweet = tweet.replace(p, \"\") # Removes punctiation\n",
    "    tweet = word_tokenize(tweet) # Creates a list of words\n",
    "    words = \"\"\n",
    "    for each_word in tweet:\n",
    "        if each_word not in terms_to_remove:\n",
    "            words = words + \" \" + each_word\n",
    "    # return [word for word in tweet if word not in terms_to_remove]\n",
    "    return words[1:]"
   ]
  },
  {
   "cell_type": "code",
   "execution_count": 5,
   "metadata": {},
   "outputs": [],
   "source": [
    "unzip_files()"
   ]
  },
  {
   "cell_type": "code",
   "execution_count": 6,
   "metadata": {},
   "outputs": [],
   "source": [
    "# Start Spark session, load the test dataset into a Spark DataFrame and then adjust column names\n",
    "from pyspark.sql import SparkSession, functions\n",
    "\n",
    "spark = SparkSession.builder.master(\"local\").appName(\"Training Twitter Sentiment Analysis\").getOrCreate()\n",
    "test_data = spark.read.load(\n",
    "    \"tmp/testdata.manual.2009.06.14.csv\",\n",
    "    format=\"csv\")\n",
    "test_data = test_data.withColumnRenamed(\"_c0\", \"label\") \\\n",
    "    .withColumnRenamed(\"_c1\", \"tweet_id\") \\\n",
    "    .withColumnRenamed(\"_c2\", \"date\") \\\n",
    "    .withColumnRenamed(\"_c3\", \"query\") \\\n",
    "    .withColumnRenamed(\"_c4\", \"user\") \\\n",
    "    .withColumnRenamed(\"_c5\", \"tweet\")"
   ]
  },
  {
   "cell_type": "code",
   "execution_count": 7,
   "metadata": {},
   "outputs": [
    {
     "name": "stdout",
     "output_type": "stream",
     "text": [
      "+-----+--------+--------------------+-------+--------+--------------------+--------------------+\n",
      "|label|tweet_id|                date|  query|    user|               tweet|      tweet_cleansed|\n",
      "+-----+--------+--------------------+-------+--------+--------------------+--------------------+\n",
      "|    4|       3|Mon May 11 03:17:...|kindle2|  tpryan|@stellargirl I lo...|loooooooovvvvvvee...|\n",
      "|    4|       4|Mon May 11 03:18:...|kindle2|  vcu451|Reading my kindle...|reading kindle2 l...|\n",
      "|    4|       5|Mon May 11 03:18:...|kindle2|  chadfu|Ok, first assesme...|ok first assesmen...|\n",
      "|    4|       6|Mon May 11 03:19:...|kindle2|   SIX15|@kenburbary You'l...|youll love kindle...|\n",
      "|    4|       7|Mon May 11 03:21:...|kindle2|yamarama|@mikefish  Fair e...|fair enough kindl...|\n",
      "+-----+--------+--------------------+-------+--------+--------------------+--------------------+\n",
      "only showing top 5 rows\n",
      "\n"
     ]
    }
   ],
   "source": [
    "# Run the cleansing UDF for tweet column\n",
    "udf_cleansing = functions.udf(cleansing)\n",
    "test_data = test_data.withColumn(\"tweet_cleansed\", udf_cleansing(functions.col(\"tweet\")))\n",
    "test_data.show(5)"
   ]
  },
  {
   "cell_type": "markdown",
   "metadata": {},
   "source": [
    "### Tokenizing\n",
    "\n",
    "The following code snippet creates a list of every remaining word (after cleansing) that will be used to build the features for training the model"
   ]
  },
  {
   "cell_type": "code",
   "execution_count": 8,
   "metadata": {},
   "outputs": [
    {
     "name": "stdout",
     "output_type": "stream",
     "text": [
      "+-----+--------+--------------------+-------+--------+--------------------+--------------------+--------------------+\n",
      "|label|tweet_id|                date|  query|    user|               tweet|      tweet_cleansed|               words|\n",
      "+-----+--------+--------------------+-------+--------+--------------------+--------------------+--------------------+\n",
      "|    4|       3|Mon May 11 03:17:...|kindle2|  tpryan|@stellargirl I lo...|loooooooovvvvvvee...|[loooooooovvvvvve...|\n",
      "|    4|       4|Mon May 11 03:18:...|kindle2|  vcu451|Reading my kindle...|reading kindle2 l...|[reading, kindle2...|\n",
      "|    4|       5|Mon May 11 03:18:...|kindle2|  chadfu|Ok, first assesme...|ok first assesmen...|[ok, first, asses...|\n",
      "|    4|       6|Mon May 11 03:19:...|kindle2|   SIX15|@kenburbary You'l...|youll love kindle...|[youll, love, kin...|\n",
      "|    4|       7|Mon May 11 03:21:...|kindle2|yamarama|@mikefish  Fair e...|fair enough kindl...|[fair, enough, ki...|\n",
      "+-----+--------+--------------------+-------+--------+--------------------+--------------------+--------------------+\n",
      "only showing top 5 rows\n",
      "\n"
     ]
    }
   ],
   "source": [
    "from pyspark.ml.feature import Tokenizer\n",
    "\n",
    "tokenizer = Tokenizer(inputCol=\"tweet_cleansed\", outputCol=\"words\")\n",
    "test_data = tokenizer.transform(test_data)\n",
    "test_data.show(5)"
   ]
  },
  {
   "cell_type": "markdown",
   "metadata": {},
   "source": [
    "### HashingTF\n",
    "\n",
    "The following code snippet creates the features, which means a list of all terms available on all \"documents\" with a \"tag\" indicating its presence or not on the specific \"document\""
   ]
  },
  {
   "cell_type": "code",
   "execution_count": 9,
   "metadata": {},
   "outputs": [
    {
     "name": "stdout",
     "output_type": "stream",
     "text": [
      "+-----+--------+--------------------+-------+--------+--------------------+--------------------+--------------------+--------------------+\n",
      "|label|tweet_id|                date|  query|    user|               tweet|      tweet_cleansed|               words|            features|\n",
      "+-----+--------+--------------------+-------+--------+--------------------+--------------------+--------------------+--------------------+\n",
      "|    4|       3|Mon May 11 03:17:...|kindle2|  tpryan|@stellargirl I lo...|loooooooovvvvvvee...|[loooooooovvvvvve...|(262144,[12524,83...|\n",
      "|    4|       4|Mon May 11 03:18:...|kindle2|  vcu451|Reading my kindle...|reading kindle2 l...|[reading, kindle2...|(262144,[53570,73...|\n",
      "|    4|       5|Mon May 11 03:18:...|kindle2|  chadfu|Ok, first assesme...|ok first assesmen...|[ok, first, asses...|(262144,[41748,12...|\n",
      "|    4|       6|Mon May 11 03:19:...|kindle2|   SIX15|@kenburbary You'l...|youll love kindle...|[youll, love, kin...|(262144,[1546,218...|\n",
      "|    4|       7|Mon May 11 03:21:...|kindle2|yamarama|@mikefish  Fair e...|fair enough kindl...|[fair, enough, ki...|(262144,[32392,11...|\n",
      "+-----+--------+--------------------+-------+--------+--------------------+--------------------+--------------------+--------------------+\n",
      "only showing top 5 rows\n",
      "\n"
     ]
    }
   ],
   "source": [
    "from pyspark.ml.feature import HashingTF\n",
    "hashingTF = HashingTF(inputCol=\"words\", outputCol=\"features\")\n",
    "test_data = hashingTF.transform(test_data)\n",
    "test_data.show(5)"
   ]
  },
  {
   "cell_type": "code",
   "execution_count": 10,
   "metadata": {},
   "outputs": [
    {
     "name": "stdout",
     "output_type": "stream",
     "text": [
      "+-----+--------+--------------------+-------+--------+--------------------+--------------------+--------------------+--------------------+----------+\n",
      "|label|tweet_id|                date|  query|    user|               tweet|      tweet_cleansed|               words|            features|labelIndex|\n",
      "+-----+--------+--------------------+-------+--------+--------------------+--------------------+--------------------+--------------------+----------+\n",
      "|    4|       3|Mon May 11 03:17:...|kindle2|  tpryan|@stellargirl I lo...|loooooooovvvvvvee...|[loooooooovvvvvve...|(262144,[12524,83...|       0.0|\n",
      "|    4|       4|Mon May 11 03:18:...|kindle2|  vcu451|Reading my kindle...|reading kindle2 l...|[reading, kindle2...|(262144,[53570,73...|       0.0|\n",
      "|    4|       5|Mon May 11 03:18:...|kindle2|  chadfu|Ok, first assesme...|ok first assesmen...|[ok, first, asses...|(262144,[41748,12...|       0.0|\n",
      "|    4|       6|Mon May 11 03:19:...|kindle2|   SIX15|@kenburbary You'l...|youll love kindle...|[youll, love, kin...|(262144,[1546,218...|       0.0|\n",
      "|    4|       7|Mon May 11 03:21:...|kindle2|yamarama|@mikefish  Fair e...|fair enough kindl...|[fair, enough, ki...|(262144,[32392,11...|       0.0|\n",
      "+-----+--------+--------------------+-------+--------+--------------------+--------------------+--------------------+--------------------+----------+\n",
      "only showing top 5 rows\n",
      "\n"
     ]
    }
   ],
   "source": [
    "# Creates a numeric index for the labels\n",
    "from pyspark.ml.feature import StringIndexer\n",
    "stringIndexer = StringIndexer(inputCol=\"label\", outputCol=\"labelIndex\")\n",
    "model = stringIndexer.fit(test_data)\n",
    "test_data = model.transform(test_data)\n",
    "test_data.show(5)"
   ]
  },
  {
   "cell_type": "markdown",
   "metadata": {},
   "source": [
    "### Loading saved model\n",
    "\n",
    "Here we load the saved model that we have previously persisted on disk and use it to classify our test set (which is different from the one we used to evaluate when modeling). It is important that the DataFrame being used have the same columns (features and labelIndex) that we used when training it."
   ]
  },
  {
   "cell_type": "code",
   "execution_count": 11,
   "metadata": {},
   "outputs": [],
   "source": [
    "model_folder = os.path.join(os.getcwd(), 'saved_models')\n",
    "model_full_path = os.path.join(model_folder, \"twitter_sentiment_spark\")\n",
    "if not os.path.exists(model_folder):\n",
    "    print(\"model does not exists\")\n",
    "\n",
    "from pyspark.ml.classification import NaiveBayesModel\n",
    "loadModel = NaiveBayesModel.load(model_full_path)\n"
   ]
  },
  {
   "cell_type": "code",
   "execution_count": 12,
   "metadata": {},
   "outputs": [],
   "source": [
    "# Classifying using saved modelk\n",
    "predicted = loadModel.transform(test_data)"
   ]
  },
  {
   "cell_type": "code",
   "execution_count": 13,
   "metadata": {},
   "outputs": [
    {
     "name": "stdout",
     "output_type": "stream",
     "text": [
      "+-----+--------------------+----------+-------+\n",
      "|label|               tweet|labelIndex|NB_pred|\n",
      "+-----+--------------------+----------+-------+\n",
      "|    4|@stellargirl I lo...|       0.0|    0.0|\n",
      "|    4|Reading my kindle...|       0.0|    0.0|\n",
      "|    4|Ok, first assesme...|       0.0|    0.0|\n",
      "|    4|@kenburbary You'l...|       0.0|    0.0|\n",
      "|    4|@mikefish  Fair e...|       0.0|    1.0|\n",
      "+-----+--------------------+----------+-------+\n",
      "only showing top 5 rows\n",
      "\n"
     ]
    }
   ],
   "source": [
    "predicted.select(\"label\", \"tweet\", \"labelIndex\", \"NB_pred\").show(5)"
   ]
  },
  {
   "cell_type": "code",
   "execution_count": 14,
   "metadata": {},
   "outputs": [
    {
     "name": "stdout",
     "output_type": "stream",
     "text": [
      "\n",
      "Total: 498 \n",
      "Correct: 277 \n",
      "Accuracy: 0.5562248995983936\n"
     ]
    }
   ],
   "source": [
    "# Evaluating the results with test dataset\n",
    "# It is important to note that our training set didn't have any Neutral (polarity = 2) single case\n",
    "total = predicted.count()\n",
    "correct = predicted.where(predicted['labelIndex'] == predicted['NB_pred']).count()\n",
    "accuracy = correct/total\n",
    "print(\n",
    "    \"\\nTotal:\", total, \n",
    "    \"\\nCorrect:\", correct, \n",
    "    \"\\nAccuracy:\", accuracy)"
   ]
  },
  {
   "cell_type": "markdown",
   "metadata": {},
   "source": [
    "### Applying the initial label\n",
    "\n",
    "As we needed to create an index for our labels, we now need to \"translate\" back the predicted label index to our label. So, we firts create a \"domain\" table with them"
   ]
  },
  {
   "cell_type": "code",
   "execution_count": 15,
   "metadata": {},
   "outputs": [
    {
     "name": "stdout",
     "output_type": "stream",
     "text": [
      "+--------+---------------+\n",
      "|label_id|label_predicted|\n",
      "+--------+---------------+\n",
      "|     0.0|              4|\n",
      "|     2.0|              2|\n",
      "|     1.0|              0|\n",
      "+--------+---------------+\n",
      "\n"
     ]
    }
   ],
   "source": [
    "labels = predicted.select(\"labelIndex\", \"label\").distinct() \\\n",
    "    .withColumnRenamed(\"label\", \"label_predicted\") \\\n",
    "    .withColumnRenamed(\"labelIndex\", \"label_id\")\n",
    "labels.show()"
   ]
  },
  {
   "cell_type": "markdown",
   "metadata": {},
   "source": [
    "Now we join our \"domain\" table back to get the original labels"
   ]
  },
  {
   "cell_type": "code",
   "execution_count": 16,
   "metadata": {},
   "outputs": [],
   "source": [
    "predicted = predicted.join(labels, predicted[\"NB_pred\"] == labels[\"label_id\"])"
   ]
  },
  {
   "cell_type": "code",
   "execution_count": 17,
   "metadata": {},
   "outputs": [
    {
     "name": "stdout",
     "output_type": "stream",
     "text": [
      "+-----+--------+--------------------+--------------+--------------------+---------------+--------------------+\n",
      "|label|tweet_id|                date|          user|               tweet|label_predicted|             NB_prob|\n",
      "+-----+--------+--------------------+--------------+--------------------+---------------+--------------------+\n",
      "|    4|       3|Mon May 11 03:17:...|        tpryan|@stellargirl I lo...|              4|[0.95150414342958...|\n",
      "|    4|       4|Mon May 11 03:18:...|        vcu451|Reading my kindle...|              4|[0.98968317981950...|\n",
      "|    4|       5|Mon May 11 03:18:...|        chadfu|Ok, first assesme...|              4|[0.70624622765694...|\n",
      "|    4|       6|Mon May 11 03:19:...|         SIX15|@kenburbary You'l...|              4|[0.59613169847051...|\n",
      "|    4|       7|Mon May 11 03:21:...|      yamarama|@mikefish  Fair e...|              0|[0.43800417559941...|\n",
      "|    4|       8|Mon May 11 03:22:...|  GeorgeVHulme|@richardebaker no...|              4|[0.83254331905408...|\n",
      "|    0|       9|Mon May 11 03:22:...|       Seth937|Fuck this economy...|              0|[0.01199913436638...|\n",
      "|    4|      10|Mon May 11 03:26:...|     dcostalis|Jquery is my new ...|              4|[0.88875378612207...|\n",
      "|    4|      11|Mon May 11 03:27:...|       PJ_King|       Loves twitter|              4|[0.62671938887919...|\n",
      "|    4|      12|Mon May 11 03:29:...|   mandanicole|how can you not l...|              4|[0.71466638750544...|\n",
      "|    2|      13|Mon May 11 03:32:...|          jpeb|Check this video ...|              4|[0.86587624628720...|\n",
      "|    0|      14|Mon May 11 03:32:...|   kylesellers|@Karoli I firmly ...|              0|[0.13753544592722...|\n",
      "|    4|      15|Mon May 11 03:33:...|   theviewfans|House Corresponde...|              0|[0.25473063985281...|\n",
      "|    4|      16|Mon May 11 05:05:...|        MumsFP|Watchin Espn..Jus...|              4|[0.59915849188848...|\n",
      "|    0|      17|Mon May 11 05:06:...|   vincentx24x|dear nike, stop w...|              0|[0.08884416442885...|\n",
      "|    4|      18|Mon May 11 05:20:...|  cameronwylie|#lebron best athl...|              0|[0.07365394457048...|\n",
      "|    0|      19|Mon May 11 05:20:...|       luv8242|I was talking to ...|              0|[0.00658412496222...|\n",
      "|    4|      20|Mon May 11 05:21:...|    mtgillikin|i love lebron. ht...|              0|[0.37310113943638...|\n",
      "|    0|      21|Mon May 11 05:21:...|ursecretdezire|@ludajuice Lebron...|              0|[0.01190762383955...|\n",
      "|    4|      22|Mon May 11 05:21:...|     Native_01|@Pmillzz lebron I...|              0|[0.19986827591756...|\n",
      "+-----+--------+--------------------+--------------+--------------------+---------------+--------------------+\n",
      "only showing top 20 rows\n",
      "\n"
     ]
    }
   ],
   "source": [
    "predicted.select(\"label\", \"tweet_id\", \"date\", \"user\", \"tweet\", \"label_predicted\", \"NB_prob\").show()"
   ]
  },
  {
   "cell_type": "code",
   "execution_count": 18,
   "metadata": {},
   "outputs": [],
   "source": [
    "\n",
    "def get_probability(probability_vector, predicted_label_index):\n",
    "    probability_array = probability_vector.tolist()\n",
    "    return probability_array[int(predicted_label_index)]"
   ]
  },
  {
   "cell_type": "code",
   "execution_count": 19,
   "metadata": {},
   "outputs": [],
   "source": [
    "udf_get_probability = functions.udf(get_probability)"
   ]
  },
  {
   "cell_type": "code",
   "execution_count": 20,
   "metadata": {},
   "outputs": [],
   "source": [
    "\n",
    "predicted_with_prob = predicted.withColumn(\"probability\", udf_get_probability(\n",
    "    functions.col(\"NB_prob\"), functions.col(\"NB_pred\")))"
   ]
  },
  {
   "cell_type": "code",
   "execution_count": 21,
   "metadata": {},
   "outputs": [
    {
     "name": "stdout",
     "output_type": "stream",
     "text": [
      "+-------+--------------------+------------------+\n",
      "|NB_pred|             NB_prob|       probability|\n",
      "+-------+--------------------+------------------+\n",
      "|    0.0|[0.95150414342958...| 0.951504143429587|\n",
      "|    0.0|[0.98968317981950...|0.9896831798195027|\n",
      "|    0.0|[0.70624622765694...|0.7062462276569403|\n",
      "|    0.0|[0.59613169847051...|0.5961316984705186|\n",
      "|    1.0|[0.43800417559941...|0.5619958244005896|\n",
      "|    0.0|[0.83254331905408...|0.8325433190540862|\n",
      "|    1.0|[0.01199913436638...|0.9880008656336186|\n",
      "|    0.0|[0.88875378612207...| 0.888753786122072|\n",
      "|    0.0|[0.62671938887919...|0.6267193888791934|\n",
      "|    0.0|[0.71466638750544...|0.7146663875054433|\n",
      "|    0.0|[0.86587624628720...|0.8658762462872054|\n",
      "|    1.0|[0.13753544592722...| 0.862464554072773|\n",
      "|    1.0|[0.25473063985281...|0.7452693601471875|\n",
      "|    0.0|[0.59915849188848...|0.5991584918884824|\n",
      "|    1.0|[0.08884416442885...|0.9111558355711441|\n",
      "|    1.0|[0.07365394457048...|0.9263460554295169|\n",
      "|    1.0|[0.00658412496222...|0.9934158750377707|\n",
      "|    1.0|[0.37310113943638...|0.6268988605636104|\n",
      "|    1.0|[0.01190762383955...|0.9880923761604488|\n",
      "|    1.0|[0.19986827591756...| 0.800131724082437|\n",
      "+-------+--------------------+------------------+\n",
      "only showing top 20 rows\n",
      "\n"
     ]
    }
   ],
   "source": [
    "predicted_with_prob.select(\"NB_pred\", \"NB_prob\", \"probability\").show()"
   ]
  },
  {
   "cell_type": "code",
   "execution_count": 22,
   "metadata": {},
   "outputs": [],
   "source": [
    "probability_threshold = .70\n",
    "predicted_with_prob = predicted_with_prob.withColumn(\n",
    "    \"label_predicted\", \n",
    "     functions.when(predicted_with_prob.probability < probability_threshold, \"2\")\n",
    "    .otherwise(predicted_with_prob.label_predicted))"
   ]
  },
  {
   "cell_type": "code",
   "execution_count": 23,
   "metadata": {},
   "outputs": [
    {
     "name": "stdout",
     "output_type": "stream",
     "text": [
      "+-----+--------+--------------------+--------------+--------------------+---------------+--------------------+\n",
      "|label|tweet_id|                date|          user|               tweet|label_predicted|             NB_prob|\n",
      "+-----+--------+--------------------+--------------+--------------------+---------------+--------------------+\n",
      "|    4|       3|Mon May 11 03:17:...|        tpryan|@stellargirl I lo...|              4|[0.95150414342958...|\n",
      "|    4|       4|Mon May 11 03:18:...|        vcu451|Reading my kindle...|              4|[0.98968317981950...|\n",
      "|    4|       5|Mon May 11 03:18:...|        chadfu|Ok, first assesme...|              4|[0.70624622765694...|\n",
      "|    4|       6|Mon May 11 03:19:...|         SIX15|@kenburbary You'l...|              2|[0.59613169847051...|\n",
      "|    4|       7|Mon May 11 03:21:...|      yamarama|@mikefish  Fair e...|              2|[0.43800417559941...|\n",
      "|    4|       8|Mon May 11 03:22:...|  GeorgeVHulme|@richardebaker no...|              4|[0.83254331905408...|\n",
      "|    0|       9|Mon May 11 03:22:...|       Seth937|Fuck this economy...|              0|[0.01199913436638...|\n",
      "|    4|      10|Mon May 11 03:26:...|     dcostalis|Jquery is my new ...|              4|[0.88875378612207...|\n",
      "|    4|      11|Mon May 11 03:27:...|       PJ_King|       Loves twitter|              2|[0.62671938887919...|\n",
      "|    4|      12|Mon May 11 03:29:...|   mandanicole|how can you not l...|              4|[0.71466638750544...|\n",
      "|    2|      13|Mon May 11 03:32:...|          jpeb|Check this video ...|              4|[0.86587624628720...|\n",
      "|    0|      14|Mon May 11 03:32:...|   kylesellers|@Karoli I firmly ...|              0|[0.13753544592722...|\n",
      "|    4|      15|Mon May 11 03:33:...|   theviewfans|House Corresponde...|              0|[0.25473063985281...|\n",
      "|    4|      16|Mon May 11 05:05:...|        MumsFP|Watchin Espn..Jus...|              2|[0.59915849188848...|\n",
      "|    0|      17|Mon May 11 05:06:...|   vincentx24x|dear nike, stop w...|              0|[0.08884416442885...|\n",
      "|    4|      18|Mon May 11 05:20:...|  cameronwylie|#lebron best athl...|              0|[0.07365394457048...|\n",
      "|    0|      19|Mon May 11 05:20:...|       luv8242|I was talking to ...|              0|[0.00658412496222...|\n",
      "|    4|      20|Mon May 11 05:21:...|    mtgillikin|i love lebron. ht...|              2|[0.37310113943638...|\n",
      "|    0|      21|Mon May 11 05:21:...|ursecretdezire|@ludajuice Lebron...|              0|[0.01190762383955...|\n",
      "|    4|      22|Mon May 11 05:21:...|     Native_01|@Pmillzz lebron I...|              0|[0.19986827591756...|\n",
      "+-----+--------+--------------------+--------------+--------------------+---------------+--------------------+\n",
      "only showing top 20 rows\n",
      "\n"
     ]
    }
   ],
   "source": [
    "predicted_with_prob.select(\"label\", \"tweet_id\", \"date\", \"user\", \"tweet\", \"label_predicted\", \"NB_prob\").show()"
   ]
  },
  {
   "cell_type": "code",
   "execution_count": 24,
   "metadata": {},
   "outputs": [
    {
     "name": "stdout",
     "output_type": "stream",
     "text": [
      "\n",
      "Total: 498  was  498 \n",
      "Correct: 279  was  277 \n",
      "Accuracy: 0.5602409638554217  was  0.5562248995983936\n"
     ]
    }
   ],
   "source": [
    "total_ajd = predicted_with_prob.count()\n",
    "correct_adj = predicted_with_prob.where(predicted_with_prob['label'] == predicted_with_prob['label_predicted']).count()\n",
    "accuracy_adj = correct_adj/total_ajd\n",
    "print(\n",
    "    \"\\nTotal:\", total_ajd, \" was \", total, \n",
    "    \"\\nCorrect:\", correct_adj, \" was \", correct,\n",
    "    \"\\nAccuracy:\", accuracy_adj, \" was \", accuracy)"
   ]
  },
  {
   "cell_type": "code",
   "execution_count": 25,
   "metadata": {},
   "outputs": [],
   "source": [
    "# Delete temporary folder\n",
    "if os.path.exists(temporary_folder):\n",
    "    shutil.rmtree(temporary_folder)   "
   ]
  }
 ],
 "metadata": {
  "kernelspec": {
   "display_name": "Python 3",
   "language": "python",
   "name": "python3"
  },
  "language_info": {
   "codemirror_mode": {
    "name": "ipython",
    "version": 3
   },
   "file_extension": ".py",
   "mimetype": "text/x-python",
   "name": "python",
   "nbconvert_exporter": "python",
   "pygments_lexer": "ipython3",
   "version": "3.8.5"
  }
 },
 "nbformat": 4,
 "nbformat_minor": 4
}
